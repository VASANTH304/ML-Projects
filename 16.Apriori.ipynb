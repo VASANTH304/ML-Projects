{
 "cells": [
  {
   "cell_type": "code",
   "execution_count": 2,
   "id": "f08b01de",
   "metadata": {},
   "outputs": [
    {
     "name": "stdout",
     "output_type": "stream",
     "text": [
      "Collecting apyori\n",
      "  Downloading apyori-1.1.2.tar.gz (8.6 kB)\n",
      "Building wheels for collected packages: apyori\n",
      "  Building wheel for apyori (setup.py): started\n",
      "  Building wheel for apyori (setup.py): finished with status 'done'\n",
      "  Created wheel for apyori: filename=apyori-1.1.2-py3-none-any.whl size=5974 sha256=b913aa7e421b02687e8da4361b404abda513f79ebbe5e330414161f503d296cf\n",
      "  Stored in directory: c:\\users\\dell\\appdata\\local\\pip\\cache\\wheels\\32\\2a\\54\\10c595515f385f3726642b10c60bf788029e8f3a1323e3913a\n",
      "Successfully built apyori\n",
      "Installing collected packages: apyori\n",
      "Successfully installed apyori-1.1.2\n"
     ]
    }
   ],
   "source": [
    "!pip install apyori"
   ]
  },
  {
   "cell_type": "code",
   "execution_count": 3,
   "id": "7f5d75a7",
   "metadata": {},
   "outputs": [],
   "source": [
    "#Importing the library\n",
    "import numpy as np\n",
    "import pandas as pd\n",
    "import matplotlib.pyplot as plt"
   ]
  },
  {
   "cell_type": "code",
   "execution_count": 5,
   "id": "14b6ddce",
   "metadata": {},
   "outputs": [],
   "source": [
    "# Data Preprocessing\n",
    "dataset = pd.read_csv('C:\\\\users\\\\Dell\\\\Downloads\\\\dataset\\\\Market_Basket_Optimisation.csv',header = None)\n",
    "transactions = []\n",
    "for i in range(0, 7501): # 7501 records in dataset\n",
    "    transactions.append([str(dataset.values[i,j]) for j in range(0,20)])\n",
    "    "
   ]
  },
  {
   "cell_type": "code",
   "execution_count": 6,
   "id": "3a2a1cba",
   "metadata": {},
   "outputs": [],
   "source": [
    "#Training the apriori model on the dataset\n",
    "from apyori import apriori\n",
    "rules = apriori(transactions= transactions , min_support = 0.003 , min_confidence = 0.2, min_lift = 3, min_length=2, max_length=2)"
   ]
  },
  {
   "cell_type": "code",
   "execution_count": 7,
   "id": "1b825e70",
   "metadata": {},
   "outputs": [
    {
     "data": {
      "text/plain": [
       "[RelationRecord(items=frozenset({'light cream', 'chicken'}), support=0.004532728969470737, ordered_statistics=[OrderedStatistic(items_base=frozenset({'light cream'}), items_add=frozenset({'chicken'}), confidence=0.29059829059829057, lift=4.84395061728395)]),\n",
       " RelationRecord(items=frozenset({'escalope', 'mushroom cream sauce'}), support=0.005732568990801226, ordered_statistics=[OrderedStatistic(items_base=frozenset({'mushroom cream sauce'}), items_add=frozenset({'escalope'}), confidence=0.3006993006993007, lift=3.790832696715049)]),\n",
       " RelationRecord(items=frozenset({'pasta', 'escalope'}), support=0.005865884548726837, ordered_statistics=[OrderedStatistic(items_base=frozenset({'pasta'}), items_add=frozenset({'escalope'}), confidence=0.3728813559322034, lift=4.700811850163794)]),\n",
       " RelationRecord(items=frozenset({'fromage blanc', 'honey'}), support=0.003332888948140248, ordered_statistics=[OrderedStatistic(items_base=frozenset({'fromage blanc'}), items_add=frozenset({'honey'}), confidence=0.2450980392156863, lift=5.164270764485569)]),\n",
       " RelationRecord(items=frozenset({'herb & pepper', 'ground beef'}), support=0.015997866951073192, ordered_statistics=[OrderedStatistic(items_base=frozenset({'herb & pepper'}), items_add=frozenset({'ground beef'}), confidence=0.3234501347708895, lift=3.2919938411349285)]),\n",
       " RelationRecord(items=frozenset({'ground beef', 'tomato sauce'}), support=0.005332622317024397, ordered_statistics=[OrderedStatistic(items_base=frozenset({'tomato sauce'}), items_add=frozenset({'ground beef'}), confidence=0.3773584905660377, lift=3.840659481324083)]),\n",
       " RelationRecord(items=frozenset({'light cream', 'olive oil'}), support=0.003199573390214638, ordered_statistics=[OrderedStatistic(items_base=frozenset({'light cream'}), items_add=frozenset({'olive oil'}), confidence=0.20512820512820515, lift=3.1147098515519573)]),\n",
       " RelationRecord(items=frozenset({'whole wheat pasta', 'olive oil'}), support=0.007998933475536596, ordered_statistics=[OrderedStatistic(items_base=frozenset({'whole wheat pasta'}), items_add=frozenset({'olive oil'}), confidence=0.2714932126696833, lift=4.122410097642296)]),\n",
       " RelationRecord(items=frozenset({'pasta', 'shrimp'}), support=0.005065991201173177, ordered_statistics=[OrderedStatistic(items_base=frozenset({'pasta'}), items_add=frozenset({'shrimp'}), confidence=0.3220338983050847, lift=4.506672147735896)])]"
      ]
     },
     "execution_count": 7,
     "metadata": {},
     "output_type": "execute_result"
    }
   ],
   "source": [
    "# Displaying the first results coming diretly from the output of the apriori function\n",
    "results = list(rules)\n",
    "results"
   ]
  },
  {
   "cell_type": "code",
   "execution_count": 14,
   "id": "8f30632d",
   "metadata": {},
   "outputs": [
    {
     "name": "stdout",
     "output_type": "stream",
     "text": [
      "         Left Hand Side Right Hand Side   Support  Confidence     Lifts\n",
      "0           light cream         chicken  0.004533    0.290598  4.843951\n",
      "1  mushroom cream sauce        escalope  0.005733    0.300699  3.790833\n",
      "2                 pasta        escalope  0.005866    0.372881  4.700812\n",
      "3         fromage blanc           honey  0.003333    0.245098  5.164271\n",
      "4         herb & pepper     ground beef  0.015998    0.323450  3.291994\n",
      "5          tomato sauce     ground beef  0.005333    0.377358  3.840659\n",
      "6           light cream       olive oil  0.003200    0.205128  3.114710\n",
      "7     whole wheat pasta       olive oil  0.007999    0.271493  4.122410\n",
      "8                 pasta          shrimp  0.005066    0.322034  4.506672\n"
     ]
    }
   ],
   "source": [
    "# Putting the results well organised into a Pandas dataframe\n",
    "def inspect(results):\n",
    "    lhs = [tuple(result[2][0][0])[0] for result in results]\n",
    "    rhs = [tuple(result[2][0][1])[0] for result in results]\n",
    "    supports = [result[1] for result in results]\n",
    "    confidences = [result[2][0][2] for result in results]\n",
    "    lifts = [result[2][0][3] for result in results]\n",
    "    return list(zip(lhs,rhs,supports,confidences,lifts))\n",
    "resultsinDataFrame = pd.DataFrame(inspect(results), columns =['Left Hand Side', 'Right Hand Side' ,'Support' , 'Confidence' , 'Lifts' ])\n",
    "print(resultsinDataFrame)"
   ]
  },
  {
   "cell_type": "code",
   "execution_count": null,
   "id": "eca8db5a",
   "metadata": {},
   "outputs": [],
   "source": []
  },
  {
   "cell_type": "code",
   "execution_count": null,
   "id": "e2dbff06",
   "metadata": {},
   "outputs": [],
   "source": []
  }
 ],
 "metadata": {
  "kernelspec": {
   "display_name": "Python 3 (ipykernel)",
   "language": "python",
   "name": "python3"
  },
  "language_info": {
   "codemirror_mode": {
    "name": "ipython",
    "version": 3
   },
   "file_extension": ".py",
   "mimetype": "text/x-python",
   "name": "python",
   "nbconvert_exporter": "python",
   "pygments_lexer": "ipython3",
   "version": "3.9.12"
  }
 },
 "nbformat": 4,
 "nbformat_minor": 5
}
